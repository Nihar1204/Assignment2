{
 "cells": [
  {
   "cell_type": "code",
   "execution_count": 1,
   "id": "2b8ceb19-e86c-42d3-bb2b-bb0616b2f158",
   "metadata": {},
   "outputs": [
    {
     "data": {
      "text/plain": [
       "\" Multi-line comments: Multi-line comments, also known as block comments, allow you to provide explanations \\nor descriptions spanning multiple lines of code. While Python does not have a built-in syntax specifically for \\nmulti-line comments, you can use triple quotes (''' ''') or double quotes () to create multi-line strings, \\nwhich can effectively serve as multi-line comments. \""
      ]
     },
     "execution_count": 1,
     "metadata": {},
     "output_type": "execute_result"
    }
   ],
   "source": [
    "# We can comment code in python by using the hash(#) symbol. \n",
    "''' There are two ways to comment like single line comment and multi-line comment. \n",
    "Single-line comments are used to add brief explanations or annotations to a single line of code. \n",
    "In Python, a single-line comment starts with the hash symbol '''\n",
    "\"\"\" Multi-line comments: Multi-line comments, also known as block comments, allow you to provide explanations \n",
    "or descriptions spanning multiple lines of code. While Python does not have a built-in syntax specifically for \n",
    "multi-line comments, you can use triple quotes (''' ''') or double quotes (\"\"\" \"\"\") to create multi-line strings, \n",
    "which can effectively serve as multi-line comments. \"\"\""
   ]
  },
  {
   "cell_type": "code",
   "execution_count": 2,
   "id": "2a5d55a7-40ee-43a0-b4a9-4bf475f49c3a",
   "metadata": {},
   "outputs": [
    {
     "data": {
      "text/plain": [
       "' In Python, variables are used to store and manipulate data. A variable is a name that represents a specific value or object in memory. \\nChoose a name for the variable: The name should be meaningful and descriptive, following certain naming conventions. \\nIt can contain letters, numbers, and underscores, but must start with a letter or underscore.\\nUse the assignment operator (=): The assignment operator (=) is used to assign a value to the variable. \\nThe value on the right side of the operator is assigned to the variable on the left side.'"
      ]
     },
     "execution_count": 2,
     "metadata": {},
     "output_type": "execute_result"
    }
   ],
   "source": [
    "''' In Python, variables are used to store and manipulate data. A variable is a name that represents a specific value or object in memory. \n",
    "Choose a name for the variable: The name should be meaningful and descriptive, following certain naming conventions. \n",
    "It can contain letters, numbers, and underscores, but must start with a letter or underscore.\n",
    "Use the assignment operator (=): The assignment operator (=) is used to assign a value to the variable. \n",
    "The value on the right side of the operator is assigned to the variable on the left side.'''"
   ]
  },
  {
   "cell_type": "code",
   "execution_count": 3,
   "id": "24355a0e-5c00-4800-819f-169e50b6fca2",
   "metadata": {},
   "outputs": [],
   "source": [
    "# By using type casting we can convert one data type to another."
   ]
  },
  {
   "cell_type": "code",
   "execution_count": 4,
   "id": "bf06a816-8d58-4a4d-9fb9-38365391128b",
   "metadata": {},
   "outputs": [
    {
     "data": {
      "text/plain": [
       "' Using a text editor of our choice to write our Python script. We can create a new file and save it with a .py extension, \\nsuch as My_File.py. We can write our Python code. We can include any valid Python statements, functions, or classes. '"
      ]
     },
     "execution_count": 4,
     "metadata": {},
     "output_type": "execute_result"
    }
   ],
   "source": [
    "\"\"\" Using a text editor of our choice to write our Python script. We can create a new file and save it with a .py extension, \n",
    "such as My_File.py. We can write our Python code. We can include any valid Python statements, functions, or classes. \"\"\""
   ]
  },
  {
   "cell_type": "code",
   "execution_count": 5,
   "id": "0afb8825-df4c-4111-9be3-67c39496eafe",
   "metadata": {},
   "outputs": [
    {
     "name": "stdout",
     "output_type": "stream",
     "text": [
      "[2, 3]\n"
     ]
    }
   ],
   "source": [
    "my_list = [1, 2, 3, 4, 5]\n",
    "sub_list = my_list[1:3]\n",
    "print(sub_list)"
   ]
  },
  {
   "cell_type": "code",
   "execution_count": 6,
   "id": "2bc731af-502f-4adf-a6a6-841c1f4d67c9",
   "metadata": {},
   "outputs": [
    {
     "data": {
      "text/plain": [
       "' If any number contains both real and imaginary part then it will be known as a complex. In Math the imaginary part is \\ndetermined by i but in python it is determined by j. '"
      ]
     },
     "execution_count": 6,
     "metadata": {},
     "output_type": "execute_result"
    }
   ],
   "source": [
    "\"\"\" If any number contains both real and imaginary part then it will be known as a complex. In Math the imaginary part is \n",
    "determined by i but in python it is determined by j. \"\"\""
   ]
  },
  {
   "cell_type": "code",
   "execution_count": 7,
   "id": "10d44b04-2ced-4f2d-909a-9589fcced6e6",
   "metadata": {},
   "outputs": [],
   "source": [
    "age = 25"
   ]
  },
  {
   "cell_type": "code",
   "execution_count": 8,
   "id": "8f28ed61-50c8-4f94-ac55-069790736efe",
   "metadata": {},
   "outputs": [
    {
     "name": "stdout",
     "output_type": "stream",
     "text": [
      "<class 'float'>\n"
     ]
    }
   ],
   "source": [
    "price = 9.99\n",
    "# The variable price belongs to float data type\n",
    "print(type(price))"
   ]
  },
  {
   "cell_type": "code",
   "execution_count": 9,
   "id": "dc7fee48-0957-4006-8a85-4c3d72604127",
   "metadata": {},
   "outputs": [
    {
     "name": "stdout",
     "output_type": "stream",
     "text": [
      "Nihar Ranjan Manthan\n"
     ]
    }
   ],
   "source": [
    "name = 'Nihar Ranjan Manthan'\n",
    "print(name)"
   ]
  },
  {
   "cell_type": "code",
   "execution_count": 10,
   "id": "b8dc6923-6536-438f-a570-e06b712d782f",
   "metadata": {},
   "outputs": [
    {
     "name": "stdout",
     "output_type": "stream",
     "text": [
      "World\n"
     ]
    }
   ],
   "source": [
    "s1 = \"Hello, World!\"\n",
    "s2 = s1[7:12]\n",
    "print(s2)"
   ]
  },
  {
   "cell_type": "code",
   "execution_count": 11,
   "id": "f11120de-87ad-45af-add7-ac8e5e41462e",
   "metadata": {},
   "outputs": [],
   "source": [
    "is_student = True"
   ]
  },
  {
   "cell_type": "code",
   "execution_count": null,
   "id": "bfdbba3b-5d03-40dd-bc6e-2e716146f5c0",
   "metadata": {},
   "outputs": [],
   "source": []
  }
 ],
 "metadata": {
  "kernelspec": {
   "display_name": "Python 3 (ipykernel)",
   "language": "python",
   "name": "python3"
  },
  "language_info": {
   "codemirror_mode": {
    "name": "ipython",
    "version": 3
   },
   "file_extension": ".py",
   "mimetype": "text/x-python",
   "name": "python",
   "nbconvert_exporter": "python",
   "pygments_lexer": "ipython3",
   "version": "3.10.8"
  }
 },
 "nbformat": 4,
 "nbformat_minor": 5
}
